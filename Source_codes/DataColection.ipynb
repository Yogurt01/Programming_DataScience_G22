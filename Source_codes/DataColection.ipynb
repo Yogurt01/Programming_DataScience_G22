{
 "cells": [
  {
   "cell_type": "markdown",
   "metadata": {},
   "source": [
    "<div style=\"text-align: center; background-color: skyblue; font-family: 'Times New Roman', serif; color: white; padding: 20px; font-size: 36px; font-weight: bold; border-radius: 15px; box-shadow: 0px 6px 15px rgba(0, 0, 0, 0.2); transition: all 0.3s ease;\">\n",
    "    PROGRAMMING FOR DATA SCIENCE<br>\n",
    "    @ FIT-HCMUS, VNU-HCM<br>\n",
    "    FINAL PROJECT 🏫\n",
    "</div>\n",
    "<style>\n",
    "    div:hover {\n",
    "        transform: scale(1.05);\n",
    "        box-shadow: 0px 10px 20px rgba(0, 0, 0, 0.3);\n",
    "    }\n",
    "</style>"
   ]
  },
  {
   "cell_type": "markdown",
   "metadata": {},
   "source": [
    "<div style=\"text-align: center; background-color: #ADD8E6; font-family: 'Times New Roman', serif; color: white; padding: 25px; font-size: 20px; font-weight: bold; border-radius: 10px; box-shadow: 0px 6px 15px rgba(0, 0, 0, 0.2); transition: all 0.3s ease;\">\n",
    "    DATA COLLECTION\n",
    "</div>\n",
    "<style>\n",
    "    div:hover {\n",
    "        opacity: 0.8;\n",
    "    }\n",
    "</style>"
   ]
  },
  {
   "cell_type": "markdown",
   "metadata": {},
   "source": [
    "---"
   ]
  },
  {
   "cell_type": "markdown",
   "metadata": {},
   "source": [
    "## Red Wine Quality\n",
    "Tập dữ liệu đơn giản và sạch để xây dựng mô hình hồi quy hoặc phân loại."
   ]
  },
  {
   "cell_type": "markdown",
   "metadata": {},
   "source": [
    "## Dữ liệu mà nhóm thu thập về chủ đề gì? Nguồn dữ liệu của nhóm là gì?\n",
    "- Tập dữ liệu bao gồm một bộ sưu tập các mẫu rượu vang từ khu vực phía bắc Bồ Đào Nha, được đặc trưng bởi 11 thuộc tính hóa lý. Những thuộc tính này cung cấp thông tin về thành phần hóa học và các đặc tính vật lý của rượu, những yếu tố đóng vai trò quyết định đến chất lượng cảm quan của nó.\n",
    " \n",
    "**Nguồn dữ liệu** : [Red Wine Quality](https://www.kaggle.com/datasets/uciml/red-wine-quality-cortez-et-al-2009/data)\n",
    "## Tác giả của dữ liệu này có cho phép sử dụng như thế này không?\n",
    "- Bộ dữ liệu này được cấp phép theo giấy phép **Creative Commons Attribution 4.0 International (CC BY 4.0)**. Điều này cho phép chia sẻ và điều chỉnh các tập dữ liệu cho bất kỳ mục đích nào, miễn là ghi rõ nguồn.\n",
    "## Các tác giả đã thu thập dữ liệu như thế nào?\n",
    "Dữ liệu thu thập được từ các mẫu rượu vang đỏ đã được phân tích trong phòng thí nghiệm để đo một số đặc tính hóa lý. Tập dữ liệu chứa 11 thuộc tính (đặc trưng), bao gồm:\n",
    "  - Fixed acidity : Độ axit cố định \n",
    "  - Volatile acidity : Độ axit dễ bay hơi\n",
    "  - Citric acid : Axit xitric\n",
    "  - Residual sugar : Đường dư\n",
    "  - Chlorides : Clorua\n",
    "  - Free sulfur dioxide : Lưu huỳnh điôxít tự do\n",
    "  - Total sulfur dioxide : Tổng lưu huỳnh điôxít\n",
    "  - Density : Mật độ\n",
    "  - pH : Độ pH \n",
    "  - Sulphates : Sunphát\n",
    "  - Alcohol : Cồn"
   ]
  },
  {
   "cell_type": "markdown",
   "metadata": {},
   "source": [
    "## Lời cảm ơn\n",
    "\n",
    "Tập dữ liệu này cũng có sẵn từ kho dữ liệu máy học UCI, [https://archive.ics.uci.edu/ml/datasets/wine+quality](https://archive.ics.uci.edu/ml/datasets/wine+quality), tác giả chỉ chia sẻ nó lên Kaggle để tiện lợi. (\"Nếu tôi nhầm và loại giấy phép công cộng không cho phép tôi làm vậy, tôi sẽ gỡ bỏ nếu có yêu cầu. Tôi không phải là chủ sở hữu của tập dữ liệu này.\" - Lời của tác giả)\n",
    "\n",
    "Xin vui lòng bao gồm trích dẫn này nếu bạn dự định sử dụng cơ sở dữ liệu này:\n",
    "P. Cortez, A. Cerdeira, F. Almeida, T. Matos và J. Reis. Mô hình hóa sở thích rượu vang bằng khai thác dữ liệu từ các đặc tính lý hóa. Trong Decision Support Systems, Elsevier, 47(4):547-553, 2009."
   ]
  },
  {
   "cell_type": "markdown",
   "metadata": {},
   "source": [
    "## Tài liệu liên quan\n",
    "P. Cortez, A. Cerdeira, F. Almeida, T. Matos và J. Reis. Mô hình hóa sở thích rượu vang bằng khai thác dữ liệu từ các đặc tính lý hóa. Trong Decision Support Systems, Elsevier, 47(4):547-553, 2009."
   ]
  }
 ],
 "metadata": {
  "kernelspec": {
   "display_name": "Python 3 (ipykernel)",
   "language": "python",
   "name": "python3"
  },
  "language_info": {
   "codemirror_mode": {
    "name": "ipython",
    "version": 3
   },
   "file_extension": ".py",
   "mimetype": "text/x-python",
   "name": "python",
   "nbconvert_exporter": "python",
   "pygments_lexer": "ipython3",
   "version": "3.10.8"
  }
 },
 "nbformat": 4,
 "nbformat_minor": 4
}
