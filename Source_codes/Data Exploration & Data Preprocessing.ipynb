{
 "cells": [
  {
   "cell_type": "markdown",
   "metadata": {},
   "source": [
    "<div style=\"text-align: center; background-color: skyblue; font-family: 'Times New Roman', serif; color: white; padding: 20px; font-size: 36px; font-weight: bold; border-radius: 15px; box-shadow: 0px 6px 15px rgba(0, 0, 0, 0.2); transition: all 0.3s ease;\">\n",
    "    PROGRAMMING FOR DATA SCIENCE<br>\n",
    "    @ FIT-HCMUS, VNU-HCM<br>\n",
    "    FINAL PROJECT 🏫\n",
    "</div>\n",
    "<style>\n",
    "    div:hover {\n",
    "        transform: scale(1.05);\n",
    "        box-shadow: 0px 10px 20px rgba(0, 0, 0, 0.3);\n",
    "    }\n",
    "</style>"
   ]
  },
  {
   "cell_type": "markdown",
   "metadata": {},
   "source": [
    "<div style=\"text-align: center; background-color: #ADD8E6; font-family: 'Times New Roman', serif; color: white; padding: 25px; font-size: 20px; font-weight: bold; border-radius: 10px; box-shadow: 0px 6px 15px rgba(0, 0, 0, 0.2); transition: all 0.3s ease;\">\n",
    "    DATA PREPROCESSING AND EXPLORATION\n",
    "</div>\n",
    "<style>\n",
    "    div:hover {\n",
    "        opacity: 0.8;\n",
    "    }\n",
    "</style>"
   ]
  },
  {
   "cell_type": "markdown",
   "metadata": {},
   "source": [
    "---"
   ]
  },
  {
   "cell_type": "markdown",
   "metadata": {},
   "source": [
    "## Đọc dữ liệu vào dataframe\n",
    "Dữ liệu: [Red Wine Quality](https://www.kaggle.com/api/v1/datasets/download/uciml/red-wine-quality-cortez-et-al-2009).\n",
    "Theo mô tả về bộ dữ liệu [Red Wine Quality Description](https://www.kaggle.com/datasets/uciml/red-wine-quality-cortez-et-al-2009/data):\n",
    "> Mục tiêu: xây dựng mô hình dự đoán chất lượng cảm quan (sensory quality) của rượu vang dựa trên các thông số hóa lý.\n",
    "> \n",
    "> Bộ dữ liệu này bao gồm:\n",
    "> * Số mẫu (records): 1,599\n",
    "> * Số thuộc tính (features): 12 (bao gồm các thông số hóa lý và nhãn chất lượng)\n",
    "> \n",
    "> Bộ dữ liệu bao gồm 11 thuộc tính đầu vào, cụ thể như sau:  \n",
    "> * Fixed acidity: Độ axit cố định\n",
    "> * Volatile acidity: Độ axit dễ bay hơi\n",
    "> * Citric acid: Hàm lượng axit citric\n",
    "> * Residual sugar: Hàm lượng đường còn lại\n",
    "> * Chlorides: Hàm lượng chloride\n",
    "> * Free sulfur dioxide: Lượng lưu huỳnh dioxide tự do\n",
    "> * Total sulfur dioxide: Tổng lượng lưu huỳnh dioxide\n",
    "> * Density: Khối lượng riêng\n",
    "> * pH: Độ pH\n",
    "> * Sulphates: Hàm lượng sulphate\n",
    "> * Alcohol: Nồng độ cồn"
   ]
  },
  {
   "cell_type": "code",
   "execution_count": null,
   "metadata": {},
   "outputs": [],
   "source": [
    "# Cài đặt các thư viện cần thiết\n",
    "import numpy as np\n",
    "import pandas as pd\n",
    "import matplotlib.pyplot as plt\n",
    "import seaborn as sns"
   ]
  },
  {
   "cell_type": "code",
   "execution_count": null,
   "metadata": {},
   "outputs": [],
   "source": [
    "# Đọc dữ liệu từ tệp winequality-red.csv vào khung dữ liệu red_wine_quality_df\n",
    "red_wine_quality_df = pd.read_csv('../Datasets/winequality-red.csv')\n",
    "\n",
    "# In một số mẫu\n",
    "red_wine_quality_df.head(5)"
   ]
  },
  {
   "cell_type": "markdown",
   "metadata": {},
   "source": [
    "## Có bao nhiêu cột và dòng?"
   ]
  },
  {
   "cell_type": "code",
   "execution_count": null,
   "metadata": {},
   "outputs": [],
   "source": [
    "# Số hàng và cột dữ liệu\n",
    "print(\"Rows and columns:\", red_wine_quality_df.shape)\n",
    "\n",
    "# Lấy số lượng mẫu và số lượng thuộc tính\n",
    "n_rows = red_wine_quality_df.shape[0]\n",
    "n_cols = red_wine_quality_df.shape[1]\n",
    "\n",
    "# In số lượng mẫu và số lượng thuộc tính\n",
    "print(\"Rows:\", n_rows)\n",
    "print(\"Columns:\", n_cols)"
   ]
  },
  {
   "cell_type": "markdown",
   "metadata": {},
   "source": [
    "## Khám phá về các dòng trong bộ dữ liệu."
   ]
  },
  {
   "cell_type": "markdown",
   "metadata": {},
   "source": [
    "### Ý nghĩa của từng dòng?\n",
    "Mỗi dòng sử dụng là 1 mẫu rượu vang đỏ. Đầu vào bao gồm các thử nghiệm khách quan (ví dụ: giá trị PH) và đầu ra dựa trên dữ liệu cảm quan (trung bình của ít nhất 3 đánh giá do các chuyên gia về rượu thực hiện). Mỗi chuyên gia đánh giá chất lượng rượu từ 0 (rất kém) đến 10 (rất tuyệt vời).  \n",
    "### Có dòng bị trùng lặp không?  "
   ]
  },
  {
   "cell_type": "code",
   "execution_count": null,
   "metadata": {},
   "outputs": [],
   "source": [
    "# Tìm số dòng trùng lặp\n",
    "print(\"Duplicated rows:\",red_wine_quality_df.duplicated().sum())"
   ]
  },
  {
   "cell_type": "markdown",
   "metadata": {},
   "source": [
    "Vậy có 240 dòng trùng lặp. Ta cần xóa những dòng trùng lặp đó."
   ]
  },
  {
   "cell_type": "code",
   "execution_count": null,
   "metadata": {},
   "outputs": [],
   "source": [
    "# Xóa các dòng trùng lặp\n",
    "red_wine_quality_df.drop_duplicates(inplace=True)"
   ]
  },
  {
   "cell_type": "markdown",
   "metadata": {},
   "source": [
    "Kiểm tra lại dữ liệu có còn trùng lặp hay không."
   ]
  },
  {
   "cell_type": "code",
   "execution_count": null,
   "metadata": {},
   "outputs": [],
   "source": [
    "print(\"Duplicated rows:\",red_wine_quality_df.duplicated().sum())"
   ]
  },
  {
   "cell_type": "markdown",
   "metadata": {},
   "source": [
    "Các dòng trùng lặp đã bị xóa. Tiếp theo chúng ta sẽ khám phá các cột."
   ]
  },
  {
   "cell_type": "markdown",
   "metadata": {},
   "source": [
    "## Khám phá về từng cột (các thuộc tính) trong bộ dữ liệu."
   ]
  },
  {
   "cell_type": "markdown",
   "metadata": {},
   "source": [
    "\n",
    "### Ý nghĩa của từng cột?  \n",
    "\n",
    "| Thuộc tính              | Ý nghĩa                                                       | Đơn vị      | Vai trò                                                | Dạng dữ liệu  | Tính chất    |\n",
    "|--------------------------|--------------------------------------------------------------|-------------|--------------------------------------------------------|--------------|--------------|\n",
    "| Fixed acidity           | Độ axit cố định (axit không bay hơi, như axit tartaric)      | g/dm³       | Tạo vị chua và cấu trúc của rượu                      | Numeric        | Continuous   |\n",
    "| Volatile acidity        | Độ axit dễ bay hơi (chủ yếu là axit axetic)                  | g/dm³       | Ảnh hưởng đến mùi, hàm lượng cao gây mùi giấm         | Numeric        | Continuous   |\n",
    "| Citric acid             | Hàm lượng axit citric                                        | g/dm³       | Tăng cảm giác tươi mới và cân bằng vị chua            | Numeric        | Continuous   |\n",
    "| Residual sugar          | Lượng đường còn lại sau quá trình lên men                   | g/dm³       | Quyết định độ ngọt và khả năng bảo quản               | Numeric        | Continuous   |\n",
    "| Chlorides               | Hàm lượng chloride (muối)                                    | g/dm³       | Ảnh hưởng đến vị mặn, mức cao làm giảm chất lượng     | Numeric        | Continuous   |\n",
    "| Free sulfur dioxide     | Lưu huỳnh dioxide tự do                                      | mg/dm³      | Chống oxy hóa và vi khuẩn                             | Numeric        | Discrete   |\n",
    "| Total sulfur dioxide    | Tổng lượng lưu huỳnh dioxide                                 | mg/dm³      | Ảnh hưởng đến độ ổn định và bảo quản rượu             | Numeric        | Discrete   |\n",
    "| Density                 | Khối lượng riêng của rượu so với nước                        | kg/m³       | Phản ánh lượng đường và cồn                           | Numeric        | Continuous   |\n",
    "| pH                      | Độ pH của rượu                                               | Không có    | Đo độ axit, ảnh hưởng đến tuổi thọ và hương vị        | Numeric        | Continuous   |\n",
    "| Sulphates               | Hàm lượng sulphate (muối của axit sulfuric)                 | g/dm³       | Góp phần tạo cảm giác chát nhẹ và giữ ổn định chất lượng | Numeric        | Continuous   |\n",
    "| Alcohol                 | Nồng độ cồn (ethanol)                                        | % (thể tích)| Quyết định độ đậm đà và cảm giác rượu khi uống        | Numeric        | Continuous   |\n",
    "| Quality                 | Điểm đánh giá chất lượng cảm quan của rượu vang             | Không có    | Thước đo chất lượng rượu tổng thể                    | Numeric      | Ordinal    |\n",
    "\n"
   ]
  },
  {
   "cell_type": "markdown",
   "metadata": {},
   "source": [
    "Dạng dữ liệu của tất cả các cột đều là numeric nên ta không cần xử lí đối với dạng dữ liệu categorical."
   ]
  },
  {
   "cell_type": "markdown",
   "metadata": {},
   "source": [
    "### Kiểu dữ liệu của từng cột là gì?"
   ]
  },
  {
   "cell_type": "code",
   "execution_count": null,
   "metadata": {},
   "outputs": [],
   "source": [
    "# Tìm kiểu dữ liệu của các thuộc tính\n",
    "red_wine_quality_df.dtypes"
   ]
  },
  {
   "cell_type": "markdown",
   "metadata": {},
   "source": [
    "### Có kiểu dữ liệu nào không thích hợp không?"
   ]
  },
  {
   "cell_type": "markdown",
   "metadata": {},
   "source": [
    "Ta sẽ kiểm tra giá trị bất thường (outliers) trong các cột số liệu dựa trên phương pháp IQR. ​"
   ]
  },
  {
   "cell_type": "code",
   "execution_count": null,
   "metadata": {},
   "outputs": [],
   "source": [
    "# Select numeric columns\n",
    "numeric_columns = red_wine_quality_df.select_dtypes(include='number')\n",
    "\n",
    "# Calculate Q1, Q3, and IQR for each numeric column\n",
    "Q1 = numeric_columns.quantile(0.25)\n",
    "Q3 = numeric_columns.quantile(0.75)\n",
    "IQR = Q3 - Q1\n",
    "\n",
    "# Identify outliers: values outside [Q1 - 1.5*IQR, Q3 + 1.5*IQR]\n",
    "outliers = ((numeric_columns < (Q1 - 1.5 * IQR)) | (numeric_columns > (Q3 + 1.5 * IQR))).sum()\n",
    "\n",
    "# Summarize the results\n",
    "outliers_summary = pd.DataFrame({\n",
    "    'Outliers_Count': outliers,\n",
    "    'Total_Rows': len(numeric_columns),\n",
    "    'Percentage_Outliers': (outliers / len(numeric_columns)) * 100\n",
    "}).sort_values(by='Outliers_Count', ascending=False)\n",
    "\n",
    "outliers_summary"
   ]
  },
  {
   "cell_type": "markdown",
   "metadata": {},
   "source": [
    "Kết quả phân tích giá trị bất thường (outliers) trong các cột số liệu cho thấy:\n",
    "- Các cột có tỷ lệ bất thường cao:\n",
    "  - **residual sugar**: 126 giá trị bất thường (9.27%).\n",
    "  - **chlorides**: 87 giá trị bất thường (6.4%).\n",
    "  - **sulphates**: 55 giá trị bất thường (4.05%).\n",
    "- Các cột có tỷ lệ bất thường trung bình:\n",
    "  - **total sulfur dioxide**: 45 giá trị bất thường (3.31%).\n",
    "  - **fixed acidity**: 41 giá trị bất thường (3.02%).\n",
    "  - **density**: 35 giá trị bất thường (2.58%).\n",
    "- Các cột có tỷ lệ bất thường thấp:\n",
    "  - **pH**: 28 giá trị bất thường (2.06%).\n",
    "  - **quality**: 27 giá trị bất thường (1.99%).\n",
    "  - **free sulfur dioxide**: 26 giá trị bất thường (1.91%).\n",
    "  - **volatile acidity**: 19 giá trị bất thường (1.40%).\n",
    "  - **alcohol**: 12 giá trị bất thường (0.88%).\n",
    "  - **citric acid**: 1 giá trị bất thường (0.07%).\n",
    "  \n",
    "Nhận xét:\n",
    "- **sulphates**, **chlorides**, và **residual sugar** là các cột cần chú ý vì có tỷ lệ giá trị bất thường cao.\n",
    "- Các cột như **citric acid** hoặc **alcohol** có rất ít giá trị bất thường."
   ]
  },
  {
   "cell_type": "markdown",
   "metadata": {},
   "source": [
    "Các kiểu dữ liệu đã thích hợp nhưng giá trị của một số cột có vẻ hơi dài nên ta nên làm tròn đến số thập phân thứ 2."
   ]
  },
  {
   "cell_type": "code",
   "execution_count": null,
   "metadata": {},
   "outputs": [],
   "source": [
    "# Làm tròn giá trị của các thuộc tính đến 2 chữ số thập phân\n",
    "red_wine_quality_df = red_wine_quality_df.round(2)\n",
    "red_wine_quality_df.head(10)"
   ]
  },
  {
   "cell_type": "markdown",
   "metadata": {},
   "source": [
    "## Đối với mỗi cột có kiểu dữ liệu numeric, các giá trị được phân bổ như thế nào?\n",
    "Ở đây thì tất cả các cột đều là dữ liệu numeric. Chúng ta cần xem có bao nhiêu giá trị bị thiếu trong các cột."
   ]
  },
  {
   "cell_type": "code",
   "execution_count": null,
   "metadata": {},
   "outputs": [],
   "source": [
    "np.sum(np.isnan(red_wine_quality_df), axis=0)"
   ]
  },
  {
   "cell_type": "code",
   "execution_count": null,
   "metadata": {},
   "outputs": [],
   "source": [
    "# Phần trăm tỉ lệ bị thiếu của mỗi thuộc tính\n",
    "def missing_ratio(col):\n",
    "    return np.mean(col.isnull())*100\n",
    "\n",
    "missing_values = red_wine_quality_df.apply(missing_ratio, axis=0)\n",
    "missing_values.round(2)"
   ]
  },
  {
   "cell_type": "markdown",
   "metadata": {},
   "source": [
    "Không có giá trị nào bị thiếu trong tất cả các cột số. Chúng ta sẽ tính giá trị min, Q1(25%), median, Q3(75%) và max của các cột số này."
   ]
  },
  {
   "cell_type": "code",
   "execution_count": null,
   "metadata": {},
   "outputs": [],
   "source": [
    "# Tính toán các giá trị thống kê: min, Q1, median, Q3, max cho tất cả các cột số\n",
    "summary_stats = red_wine_quality_df.describe(percentiles=[0.25, 0.5, 0.75]).loc[['min', '25%', '50%', '75%', 'max']]\n",
    "\n",
    "summary_stats"
   ]
  },
  {
   "cell_type": "markdown",
   "metadata": {},
   "source": [
    "## <font color=red> Lưu xuống file dữ liệu mới sau tiền xử lí để chuẩn bị cho phần câu hỏi </font>"
   ]
  },
  {
   "cell_type": "code",
   "execution_count": null,
   "metadata": {},
   "outputs": [],
   "source": [
    "red_wine_quality_df.to_csv('../Datasets/processed-redwine-quality.csv', index = False)"
   ]
  },
  {
   "cell_type": "markdown",
   "metadata": {},
   "source": [
    "## Đặt một số câu hỏi để khám phá dữ liệu."
   ]
  },
  {
   "cell_type": "markdown",
   "metadata": {},
   "source": [
    "### Câu hỏi 1: Các mối quan hệ tương quan giữa các thuộc tính trong bộ dữ liệu red wine quality như thế nào? "
   ]
  },
  {
   "cell_type": "markdown",
   "metadata": {},
   "source": [
    "**Các bước thực hiện:**\n",
    "- Bước 1: Tính ma trận tương quan: sử dụng thư viện 'pandas' để tính toán ma trận tương quan.\n",
    "- Bước 2: Vẽ biểu đồ heatmap: Sử dụng thư viện 'mathplotlib' và 'seaborn' để vẽ biểu đồ từ ma trận tương quan.\n",
    "- Bước 3: Từ quan sát biểu đồ, đưa ra những nhận xét về sự tương quan giữa các thuộc tính."
   ]
  },
  {
   "cell_type": "code",
   "execution_count": null,
   "metadata": {},
   "outputs": [],
   "source": [
    "# Tải lại dữ liệu đã xử lý\n",
    "red_wine_quality_df = pd.read_csv('../Datasets/processed-redwine-quality.csv')\n",
    "\n",
    "# Tính toán ma trận tương quan giữa các thuộc tính\n",
    "correlation_matrix = red_wine_quality_df.corr()\n",
    "\n",
    "# Vẽ biểu đồ heatmap cho ma trận tương quan\n",
    "plt.figure(figsize=(12, 8))\n",
    "sns.heatmap(correlation_matrix, annot=True, cmap='coolwarm', fmt=\".2f\")\n",
    "plt.title(\"Correlation Matrix\")\n",
    "plt.show()"
   ]
  },
  {
   "cell_type": "markdown",
   "metadata": {},
   "source": [
    "**Nhận xét::**\n",
    "- **Tương quan mạnh (|r| > 0.5):**\n",
    "    - `fixed acidity` và `citric acid` (0.67)\n",
    "    - `free sulfur dioxide` và `total sulfur dioxide` (0.67)\n",
    "    - `pH` và `fixed acidity` (-0.69)\n",
    "    - `pH` và `citric acid` (-0.55)\n",
    "    - `density` và `alcohol` (-0.53)\n",
    "\n",
    "- **Tương quan trung bình hoặc yếu (0.1 < |r| ≤ 0.5):**\n",
    "    - `alcohol` và `quality` (0.48)\n",
    "    - `sulphates` và `quality` (0.25)\n",
    "    - `volatile acidity` và `quality` (-0.40)\n",
    "    - `chlorides` và `quality` (-0.13)\n",
    "    - `density` và `quality` (-0.22)\n",
    "\n",
    "- **Không có mối liên hệ (|r| ≤ 0.1):**\n",
    "    - `residual sugar` và `quality` (0.01)\n",
    "\n",
    "**Kết luận:** Khi phân tích sâu hơn, hãy tập trung vào các cặp thuộc tính có mối tương quan mạnh và vừa."
   ]
  },
  {
   "cell_type": "markdown",
   "metadata": {},
   "source": [
    "### Câu hỏi 2: Các mối quan hệ cặp (pairwise relationships) giữa các thuộc tính của bộ dữ liệu red wine quality có xu hướng như thế nào?"
   ]
  },
  {
   "cell_type": "markdown",
   "metadata": {},
   "source": [
    "**Các bước thực hiện:**\n",
    "- Bước 1: Vẽ biểu đồ pairplot: Sử dụng thư viện 'seaborn' để vẽ biểu đồ.\n",
    "- Bước 2: Quan sát và phân tích:\n",
    "    - Dựa trên biểu đồ, quan sát mối quan hệ giữa các cặp thuộc tính.\n",
    "    - Đặc biệt chú ý đến phân nhóm theo quality (nếu có)."
   ]
  },
  {
   "cell_type": "code",
   "execution_count": null,
   "metadata": {},
   "outputs": [],
   "source": [
    "import warnings\n",
    "warnings.filterwarnings(\"ignore\", category=FutureWarning)\n",
    "\n",
    "sns.pairplot(red_wine_quality_df, diag_kind='kde', hue='quality', palette='coolwarm')\n",
    "plt.show()"
   ]
  },
  {
   "cell_type": "markdown",
   "metadata": {},
   "source": [
    "**Nhận xét:**\n",
    "\n",
    "- **Thuộc tính quan trọng với chất lượng:**\n",
    "   - **Alcohol**: Rượu có nồng độ cồn cao thường có chất lượng cao.\n",
    "   - **Sulphates**: Lượng sulphates cao hơn thường liên quan đến chất lượng tốt hơn.\n",
    "   - **Volatile Acidity**: Axit bay hơi thấp hơn thì chất lượng rượu cao hơn.\n",
    "\n",
    "- **Thuộc tính ít ảnh hưởng:**\n",
    "   - **Residual Sugar**, **Density**, và **pH**: Không có sự phân hóa rõ ràng giữa các nhóm chất lượng.\n",
    "\n",
    "- **Mối quan hệ giữa các cặp thuộc tính:**\n",
    "   - **Free Sulfur Dioxide** và **Total Sulfur Dioxide**: Liên hệ tuyến tính dương rõ ràng.\n",
    "   - **Fixed Acidity** và **Citric Acid**: Có mối quan hệ dương mạnh.\n",
    "\n",
    "**Kết luận:** Chất lượng rượu chủ yếu bị ảnh hưởng bởi **alcohol**, **sulphates**, và **volatile acidity**."
   ]
  },
  {
   "cell_type": "markdown",
   "metadata": {},
   "source": [
    "### Câu hỏi 3: Trong bộ dữ liệu, nhóm rượu có chất lượng nào xuất hiện nhiều nhất?"
   ]
  },
  {
   "cell_type": "markdown",
   "metadata": {},
   "source": [
    "**Các bước thực hiện:**\n",
    "- Bước 1: Kiểm tra khoảng giá trị của cột `quality`: Xác định giá trị nhỏ nhất và lớn nhất trong cột quality để biết các mức chất lượng rượu có trong dữ liệu.\n",
    "- Bước 2: Vẽ biểu đồ Histogram cho cột `quality`: Sử dụng biểu đồ histogram để trực quan hóa số lượng rượu tương ứng với từng mức chất lượng.\n",
    "- Bước 3: Thêm cột phân loại (`quality_label`): Phân nhóm rượu dựa trên quality thành 3 loại: \"Low\", \"Medium\", \"High\".\n",
    "- Bước 4: Vẽ biểu đồ tròn cho cột `quality_label`': Trực quan hóa tỷ lệ phần trăm các nhóm Low, Medium, và High.\n",
    "- Bước 5: Nhận xét và đánh giá: \n",
    "    - Mức chất lượng rượu nào chiếm ưu thế.\n",
    "    - Đưa ra đánh giá về sự phân bố các mức chất lượng."
   ]
  },
  {
   "cell_type": "code",
   "execution_count": null,
   "metadata": {},
   "outputs": [],
   "source": [
    "# Xem khoảng giá trị của cột quality\n",
    "print(f'(min, max) = ({red_wine_quality_df[\"quality\"].min()}, {red_wine_quality_df[\"quality\"].max()})')\n",
    "\n",
    "# Vẽ biểu đồ histogram cho cột quality\n",
    "plt.figure(figsize=(8, 6))\n",
    "sns.histplot(red_wine_quality_df['quality'], bins=range(red_wine_quality_df['quality'].min(), red_wine_quality_df['quality'].max() + 2), kde=True, color='red', edgecolor='black')\n",
    "plt.title('Quality Distribution', fontsize=16)\n",
    "plt.xlabel('Quality', fontsize=12)\n",
    "plt.ylabel('Frequency', fontsize=12)\n",
    "plt.grid(axis='y', linestyle='--', alpha=0.5)\n",
    "plt.show()"
   ]
  },
  {
   "cell_type": "markdown",
   "metadata": {},
   "source": [
    "**Nhận xét:**\n",
    "- **Phân bố:** Chất lượng rượu tập trung nhiều nhất ở mức **5** và **6** (trung bình).  \n",
    "- **Rượu ít xuất hiện:** Các mức thấp (3, 4) và cao (7, 8) chiếm tỉ lệ nhỏ.  "
   ]
  },
  {
   "cell_type": "code",
   "execution_count": null,
   "metadata": {},
   "outputs": [],
   "source": [
    "# Thêm cột quality_label vào red_wine_quality_df\n",
    "def label_quality(quality):\n",
    "    if quality <= 4:\n",
    "        return 'Low'\n",
    "    elif quality <= 6:\n",
    "        return 'Medium'\n",
    "    else:\n",
    "        return 'High'\n",
    "\n",
    "red_wine_quality_df['quality_label'] = red_wine_quality_df['quality'].apply(label_quality)\n",
    "\n",
    "# Vẽ biểu đồ tròn cho cột quality_label\n",
    "plt.figure(figsize=(8, 6))\n",
    "red_wine_quality_df['quality_label'].value_counts().plot.pie(autopct='%1.1f%%', startangle=90, colors=['red', 'coral', 'darkred'])\n",
    "plt.title('Quality Label Distribution', fontsize=16)\n",
    "plt.ylabel('')\n",
    "plt.show()"
   ]
  },
  {
   "cell_type": "markdown",
   "metadata": {},
   "source": [
    "**Nhận xét:**\n",
    "   - Nhóm **Medium** (chất lượng trung bình) chiếm tỷ lệ lớn nhất, khoảng **81.8%**.\n",
    "   - Nhóm **High** (chất lượng cao) chiếm **13.5%**.\n",
    "   - Nhóm **Low** (chất lượng thấp) chỉ chiếm **4.6%**.\n",
    "   \n",
    "**Kết luận:** Rượu chất lượng trung bình là phổ biến nhất trong bộ dữ liệu."
   ]
  }
 ],
 "metadata": {
  "kernelspec": {
   "display_name": "nhb2709-env",
   "language": "python",
   "name": "python3"
  },
  "language_info": {
   "codemirror_mode": {
    "name": "ipython",
    "version": 3
   },
   "file_extension": ".py",
   "mimetype": "text/x-python",
   "name": "python",
   "nbconvert_exporter": "python",
   "pygments_lexer": "ipython3",
   "version": "3.11.10"
  }
 },
 "nbformat": 4,
 "nbformat_minor": 4
}
