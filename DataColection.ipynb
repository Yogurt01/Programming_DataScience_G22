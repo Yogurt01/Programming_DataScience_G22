{
 "cells": [
  {
   "cell_type": "markdown",
   "metadata": {},
   "source": [
    "<div style=\"text-align: center; background-color: #FF0000; font-family: 'Georgia', serif; color: white; padding: 20px; font-size: 40px; font-weight: bold; border-radius: 0 0 0 0; box-shadow: 0px 6px 8px rgba(0, 0, 0, 0.2);\">\n",
    "    PROGRAMMING FOR DATA SCIENCE\n",
    "  <div style=\"text-align: center; background-color: #FF0000; font-family: 'Georgia', serif; color: white; padding: 20px; font-size: 40px; font-weight: bold; border-radius: 0 0 0 0; box-shadow: 0px 6px 8px rgba(0, 0, 0, 0.2);\">\n",
    "    @ FIT-HCMUS, VNU-HCM \n",
    "  </div>\n",
    "  <div style=\"text-align: center; background-color: #FF0000; font-family: 'Georgia', serif; color: white; padding: 20px; font-size: 40px; font-weight: bold; border-radius: 0 0 0 0; box-shadow: 0px 6px 8px rgba(0, 0, 0, 0.2);\">\n",
    "    FINAL PROJECT \n",
    "  </div>\n",
    "</div>"
   ]
  },
  {
   "cell_type": "markdown",
   "metadata": {},
   "source": [
    "<div style=\"text-align: center; background-color: #ffc8a0; font-family: Verdana, sans-serif; color: white; padding: 20px; font-size: 30px; font-weight: bold; border-radius: 0 0 0 0; box-shadow: 0px 6px 8px rgba(0, 0, 0, 0.2);\">\n",
    "    DATA COLLECTION\n",
    "</div>"
   ]
  },
  {
   "cell_type": "markdown",
   "metadata": {},
   "source": [
    "## Dữ liệu của bạn nói về chủ đề gì? Nguồn dữ liệu của bạn là gì?\n",
    "- Tập dữ liệu bao gồm một bộ sưu tập các mẫu rượu vang từ khu vực phía bắc Bồ Đào Nha, được đặc trưng bởi 11 thuộc tính hóa lý. Những thuộc tính này cung cấp thông tin về thành phần hóa học và các đặc tính vật lý của rượu, những yếu tố đóng vai trò quyết định đến chất lượng cảm quan của nó.\n",
    " \n",
    "**Nguồn dữ liệu** : [Red Wine Quality](https://www.kaggle.com/datasets/uciml/red-wine-quality-cortez-et-al-2009/data)\n",
    "## Tác giả của dữ liệu này có cho phép bạn sử dụng như thế này không?\n",
    "- Bộ dữ liệu này được cấp phép theo giấy phép **Creative Commons Attribution 4.0 International (CC BY 4.0)**. Điều này cho phép chia sẻ và điều chỉnh các tập dữ liệu cho bất kỳ mục đích nào, miễn là ghi rõ nguồn.\n",
    "## Các tác giả đã thu thập dữ liệu như thế nào?\n",
    "Dữ liệu thu thập được từ các mẫu rượu vang đỏ đã được phân tích trong phòng thí nghiệm để đo một số đặc tính hóa lý. Tập dữ liệu chứa 11 thuộc tính (đặc trưng), bao gồm:\n",
    "  - Fixed acidity : Độ axit cố định \n",
    "  - Volatile acidity : Độ axit dễ bay hơi\n",
    "  - Citric acid : Axit xitric\n",
    "  - Residual sugar : Đường dư\n",
    "  - Chlorides : Clorua\n",
    "  - Free sulfur dioxide : Lưu huỳnh điôxít tự do\n",
    "  - Total sulfur dioxide : Tổng lưu huỳnh điôxít\n",
    "  - Density : Mật độ\n",
    "  - pH : Độ pH \n",
    "  - Sulphates : Sunphát\n",
    "  - Alcohol : Cồn"
   ]
  }
 ],
 "metadata": {
  "kernelspec": {
   "display_name": "Python 3 (ipykernel)",
   "language": "python",
   "name": "python3"
  },
  "language_info": {
   "codemirror_mode": {
    "name": "ipython",
    "version": 3
   },
   "file_extension": ".py",
   "mimetype": "text/x-python",
   "name": "python",
   "nbconvert_exporter": "python",
   "pygments_lexer": "ipython3",
   "version": "3.10.8"
  }
 },
 "nbformat": 4,
 "nbformat_minor": 4
}
