{
 "cells": [
  {
   "cell_type": "markdown",
   "id": "c23fd002-5a9b-4db5-96ca-2d28e95650d4",
   "metadata": {},
   "source": [
    "# Final Project\n",
    "---\n",
    "## 1. Programming environment\n",
    "- We will use the Linux environment and coding environment (`conda activate min_ds-env`).(Must use both of them)\n",
    "- Use `jupyter notebook`.\n"
   ]
  },
  {
   "cell_type": "code",
   "execution_count": 1,
   "id": "06480ab8-9722-4154-b89b-14dc70f87fca",
   "metadata": {},
   "outputs": [
    {
     "data": {
      "text/plain": [
       "'/home/phu/miniconda3/envs/min_ds-env/bin/python'"
      ]
     },
     "execution_count": 1,
     "metadata": {},
     "output_type": "execute_result"
    }
   ],
   "source": [
    "import sys\n",
    "sys.executable"
   ]
  },
  {
   "cell_type": "markdown",
   "id": "19c66cdb-f696-4202-be47-808e42d376f7",
   "metadata": {},
   "source": [
    "---"
   ]
  },
  {
   "cell_type": "markdown",
   "id": "a8e27f22-6560-4e5b-9472-a00e43112e7c",
   "metadata": {},
   "source": [
    "## 2. Import necessary libraries"
   ]
  },
  {
   "cell_type": "code",
   "execution_count": 2,
   "id": "b82aa812-4724-4d26-b0a5-489a05097da6",
   "metadata": {},
   "outputs": [],
   "source": [
    "import numpy as np\n",
    "import pandas as pd"
   ]
  },
  {
   "cell_type": "markdown",
   "id": "7da0aa74-672c-4920-b449-ab43dc829edc",
   "metadata": {},
   "source": [
    "---"
   ]
  },
  {
   "cell_type": "markdown",
   "id": "261f5c75-20a9-43b0-8d40-bf7f9b111306",
   "metadata": {},
   "source": [
    "## 3. Collecting Data\n",
    "\n",
    "### What subject is your data about? What is the source of your data?\n",
    "\n",
    "- The dataset comprises a collection of wine samples from the northern region of Portugal, characterized by 11 physicochemical attributes. These attributes provide insights into the chemical composition and physical properties of the wine, which are ultimately responsible for its sensory quality.\n",
    "\n",
    "### Do authors of this data allow you to use like this?\n",
    "\n",
    "- This data is from an open database.\n",
    "\n",
    "### How did authors collect the data?\n",
    "\n",
    "- The data collected from the red wine samples was subjected to laboratory analysis to measure several physicochemical properties.  \n",
    "  The dataset contains 11 attributes (features), including:  \n",
    "  - Fixed acidity  \n",
    "  - Volatile acidity  \n",
    "  - Citric acid  \n",
    "  - Residual sugar  \n",
    "  - Chlorides  \n",
    "  - Free sulfur dioxide  \n",
    "  - Total sulfur dioxide  \n",
    "  - Density  \n",
    "  - pH  \n",
    "  - Sulphates  \n",
    "  - Alcohol\n",
    "\n",
    "**Reference for data** : [Red Wine Quality](https://www.kaggle.com/datasets/uciml/red-wine-quality-cortez-et-al-2009/data)"
   ]
  },
  {
   "cell_type": "markdown",
   "id": "2628e71e-42fc-4a4b-bf09-fc6efcf3b99c",
   "metadata": {},
   "source": [
    "---"
   ]
  },
  {
   "cell_type": "markdown",
   "id": "28dab5d7-82e4-4352-9792-129ae48e64fa",
   "metadata": {},
   "source": [
    "## 4. Data exploring & Data preprocessing"
   ]
  },
  {
   "cell_type": "markdown",
   "id": "9c1992da-e268-46f9-aa9d-29abb29ab783",
   "metadata": {},
   "source": [
    "### 4.0. Read data into dataframe\n",
    "\n",
    "Data: [Red Wine Quality](https://www.kaggle.com/api/v1/datasets/download/uciml/red-wine-quality-cortez-et-al-2009).\n",
    "\n",
    "Arcording to [Red Wine Quality Description](https://www.kaggle.com/datasets/uciml/red-wine-quality-cortez-et-al-2009/data):\n",
    "- Context: \n",
    ">The two datasets are related to red and white variants of the Portuguese \"Vinho Verde\" wine. For more details, consult the reference [Cortez et al., 2009]. Due to privacy and logistic issues, only physicochemical (inputs) and sensory (the output) variables are available (e.g. there is no data about grape types, wine brand, wine selling price, etc.).\n",
    ">\n",
    ">These datasets can be viewed as classification or regression tasks. The classes are ordered and not balanced (e.g. there are much more normal wines than excellent or poor ones).\n",
    "- Content:\n",
    ">Input variables (based on physicochemical tests): `fixed acidity, volatile acidity, citric acid, residual sugar, chlorides, free sulfur dioxide, total sulfur dioxide, density, pH, sulphates, alcohol, quality (score between 0 and 10)`."
   ]
  },
  {
   "cell_type": "code",
   "execution_count": 7,
   "id": "d100ad95-1d69-494a-9008-1ebb323d8b5a",
   "metadata": {},
   "outputs": [
    {
     "data": {
      "text/html": [
       "<div>\n",
       "<style scoped>\n",
       "    .dataframe tbody tr th:only-of-type {\n",
       "        vertical-align: middle;\n",
       "    }\n",
       "\n",
       "    .dataframe tbody tr th {\n",
       "        vertical-align: top;\n",
       "    }\n",
       "\n",
       "    .dataframe thead th {\n",
       "        text-align: right;\n",
       "    }\n",
       "</style>\n",
       "<table border=\"1\" class=\"dataframe\">\n",
       "  <thead>\n",
       "    <tr style=\"text-align: right;\">\n",
       "      <th></th>\n",
       "      <th>fixed acidity</th>\n",
       "      <th>volatile acidity</th>\n",
       "      <th>citric acid</th>\n",
       "      <th>residual sugar</th>\n",
       "      <th>chlorides</th>\n",
       "      <th>free sulfur dioxide</th>\n",
       "      <th>total sulfur dioxide</th>\n",
       "      <th>density</th>\n",
       "      <th>pH</th>\n",
       "      <th>sulphates</th>\n",
       "      <th>alcohol</th>\n",
       "      <th>quality</th>\n",
       "    </tr>\n",
       "  </thead>\n",
       "  <tbody>\n",
       "    <tr>\n",
       "      <th>0</th>\n",
       "      <td>7.4</td>\n",
       "      <td>0.70</td>\n",
       "      <td>0.00</td>\n",
       "      <td>1.9</td>\n",
       "      <td>0.076</td>\n",
       "      <td>11.0</td>\n",
       "      <td>34.0</td>\n",
       "      <td>0.9978</td>\n",
       "      <td>3.51</td>\n",
       "      <td>0.56</td>\n",
       "      <td>9.4</td>\n",
       "      <td>5</td>\n",
       "    </tr>\n",
       "    <tr>\n",
       "      <th>1</th>\n",
       "      <td>7.8</td>\n",
       "      <td>0.88</td>\n",
       "      <td>0.00</td>\n",
       "      <td>2.6</td>\n",
       "      <td>0.098</td>\n",
       "      <td>25.0</td>\n",
       "      <td>67.0</td>\n",
       "      <td>0.9968</td>\n",
       "      <td>3.20</td>\n",
       "      <td>0.68</td>\n",
       "      <td>9.8</td>\n",
       "      <td>5</td>\n",
       "    </tr>\n",
       "    <tr>\n",
       "      <th>2</th>\n",
       "      <td>7.8</td>\n",
       "      <td>0.76</td>\n",
       "      <td>0.04</td>\n",
       "      <td>2.3</td>\n",
       "      <td>0.092</td>\n",
       "      <td>15.0</td>\n",
       "      <td>54.0</td>\n",
       "      <td>0.9970</td>\n",
       "      <td>3.26</td>\n",
       "      <td>0.65</td>\n",
       "      <td>9.8</td>\n",
       "      <td>5</td>\n",
       "    </tr>\n",
       "    <tr>\n",
       "      <th>3</th>\n",
       "      <td>11.2</td>\n",
       "      <td>0.28</td>\n",
       "      <td>0.56</td>\n",
       "      <td>1.9</td>\n",
       "      <td>0.075</td>\n",
       "      <td>17.0</td>\n",
       "      <td>60.0</td>\n",
       "      <td>0.9980</td>\n",
       "      <td>3.16</td>\n",
       "      <td>0.58</td>\n",
       "      <td>9.8</td>\n",
       "      <td>6</td>\n",
       "    </tr>\n",
       "    <tr>\n",
       "      <th>4</th>\n",
       "      <td>7.4</td>\n",
       "      <td>0.70</td>\n",
       "      <td>0.00</td>\n",
       "      <td>1.9</td>\n",
       "      <td>0.076</td>\n",
       "      <td>11.0</td>\n",
       "      <td>34.0</td>\n",
       "      <td>0.9978</td>\n",
       "      <td>3.51</td>\n",
       "      <td>0.56</td>\n",
       "      <td>9.4</td>\n",
       "      <td>5</td>\n",
       "    </tr>\n",
       "    <tr>\n",
       "      <th>5</th>\n",
       "      <td>7.4</td>\n",
       "      <td>0.66</td>\n",
       "      <td>0.00</td>\n",
       "      <td>1.8</td>\n",
       "      <td>0.075</td>\n",
       "      <td>13.0</td>\n",
       "      <td>40.0</td>\n",
       "      <td>0.9978</td>\n",
       "      <td>3.51</td>\n",
       "      <td>0.56</td>\n",
       "      <td>9.4</td>\n",
       "      <td>5</td>\n",
       "    </tr>\n",
       "    <tr>\n",
       "      <th>6</th>\n",
       "      <td>7.9</td>\n",
       "      <td>0.60</td>\n",
       "      <td>0.06</td>\n",
       "      <td>1.6</td>\n",
       "      <td>0.069</td>\n",
       "      <td>15.0</td>\n",
       "      <td>59.0</td>\n",
       "      <td>0.9964</td>\n",
       "      <td>3.30</td>\n",
       "      <td>0.46</td>\n",
       "      <td>9.4</td>\n",
       "      <td>5</td>\n",
       "    </tr>\n",
       "    <tr>\n",
       "      <th>7</th>\n",
       "      <td>7.3</td>\n",
       "      <td>0.65</td>\n",
       "      <td>0.00</td>\n",
       "      <td>1.2</td>\n",
       "      <td>0.065</td>\n",
       "      <td>15.0</td>\n",
       "      <td>21.0</td>\n",
       "      <td>0.9946</td>\n",
       "      <td>3.39</td>\n",
       "      <td>0.47</td>\n",
       "      <td>10.0</td>\n",
       "      <td>7</td>\n",
       "    </tr>\n",
       "    <tr>\n",
       "      <th>8</th>\n",
       "      <td>7.8</td>\n",
       "      <td>0.58</td>\n",
       "      <td>0.02</td>\n",
       "      <td>2.0</td>\n",
       "      <td>0.073</td>\n",
       "      <td>9.0</td>\n",
       "      <td>18.0</td>\n",
       "      <td>0.9968</td>\n",
       "      <td>3.36</td>\n",
       "      <td>0.57</td>\n",
       "      <td>9.5</td>\n",
       "      <td>7</td>\n",
       "    </tr>\n",
       "    <tr>\n",
       "      <th>9</th>\n",
       "      <td>7.5</td>\n",
       "      <td>0.50</td>\n",
       "      <td>0.36</td>\n",
       "      <td>6.1</td>\n",
       "      <td>0.071</td>\n",
       "      <td>17.0</td>\n",
       "      <td>102.0</td>\n",
       "      <td>0.9978</td>\n",
       "      <td>3.35</td>\n",
       "      <td>0.80</td>\n",
       "      <td>10.5</td>\n",
       "      <td>5</td>\n",
       "    </tr>\n",
       "  </tbody>\n",
       "</table>\n",
       "</div>"
      ],
      "text/plain": [
       "   fixed acidity  volatile acidity  citric acid  residual sugar  chlorides  \\\n",
       "0            7.4              0.70         0.00             1.9      0.076   \n",
       "1            7.8              0.88         0.00             2.6      0.098   \n",
       "2            7.8              0.76         0.04             2.3      0.092   \n",
       "3           11.2              0.28         0.56             1.9      0.075   \n",
       "4            7.4              0.70         0.00             1.9      0.076   \n",
       "5            7.4              0.66         0.00             1.8      0.075   \n",
       "6            7.9              0.60         0.06             1.6      0.069   \n",
       "7            7.3              0.65         0.00             1.2      0.065   \n",
       "8            7.8              0.58         0.02             2.0      0.073   \n",
       "9            7.5              0.50         0.36             6.1      0.071   \n",
       "\n",
       "   free sulfur dioxide  total sulfur dioxide  density    pH  sulphates  \\\n",
       "0                 11.0                  34.0   0.9978  3.51       0.56   \n",
       "1                 25.0                  67.0   0.9968  3.20       0.68   \n",
       "2                 15.0                  54.0   0.9970  3.26       0.65   \n",
       "3                 17.0                  60.0   0.9980  3.16       0.58   \n",
       "4                 11.0                  34.0   0.9978  3.51       0.56   \n",
       "5                 13.0                  40.0   0.9978  3.51       0.56   \n",
       "6                 15.0                  59.0   0.9964  3.30       0.46   \n",
       "7                 15.0                  21.0   0.9946  3.39       0.47   \n",
       "8                  9.0                  18.0   0.9968  3.36       0.57   \n",
       "9                 17.0                 102.0   0.9978  3.35       0.80   \n",
       "\n",
       "   alcohol  quality  \n",
       "0      9.4        5  \n",
       "1      9.8        5  \n",
       "2      9.8        5  \n",
       "3      9.8        6  \n",
       "4      9.4        5  \n",
       "5      9.4        5  \n",
       "6      9.4        5  \n",
       "7     10.0        7  \n",
       "8      9.5        7  \n",
       "9     10.5        5  "
      ]
     },
     "execution_count": 7,
     "metadata": {},
     "output_type": "execute_result"
    }
   ],
   "source": [
    "# Read data from file winequality-red.csv into dataframe red_wine_quality_df\n",
    "red_wine_quality_df = pd.read_csv('Data/winequality-red.csv')\n",
    "\n",
    "# Print some samples\n",
    "red_wine_quality_df.head(10)"
   ]
  },
  {
   "cell_type": "markdown",
   "id": "732a3cf0-f76d-487a-a9e1-56aa135b2194",
   "metadata": {},
   "source": [
    "### 4.1. How many rows and how many columns? \n"
   ]
  },
  {
   "cell_type": "code",
   "execution_count": 12,
   "id": "6c72eca3-6db5-49d0-86a6-4095b68bf1f8",
   "metadata": {},
   "outputs": [
    {
     "name": "stdout",
     "output_type": "stream",
     "text": [
      "Rows and columns: (1599, 12)\n",
      "Rows: 1599\n",
      "Columns: 12\n"
     ]
    }
   ],
   "source": [
    "# Rows and columns of data\n",
    "print(\"Rows and columns:\", red_wine_quality_df.shape)\n",
    "\n",
    "n_rows = red_wine_quality_df.shape[0]\n",
    "n_cols = red_wine_quality_df.shape[1]\n",
    "\n",
    "print(\"Rows:\", n_rows)\n",
    "print(\"Columns:\", n_cols)"
   ]
  },
  {
   "cell_type": "markdown",
   "id": "7dca807a-3996-4f5c-b550-718348882638",
   "metadata": {},
   "source": [
    "### 4.2. What is the meaning of each row? Are there duplicated rows?\n",
    "\n",
    "#### 4.2.1. What is the meaning of each row?\n",
    "\n",
    "Each row using red and white wine samples. The inputs include objective tests (e.g. PH values) and the output is based on sensory data (median of at least 3 evaluations made by wine experts). Each expert graded the wine quality between 0 (very bad) and 10 (very excellent)."
   ]
  },
  {
   "cell_type": "markdown",
   "id": "c62b36c4-e417-41cb-b4e5-0cdfe826f823",
   "metadata": {},
   "source": [
    "#### 4.2.2. Are there duplicated rows?\n",
    "\n"
   ]
  },
  {
   "cell_type": "code",
   "execution_count": 13,
   "id": "4aa15bf7-b8af-42dd-bbeb-42165d6d1766",
   "metadata": {},
   "outputs": [
    {
     "name": "stdout",
     "output_type": "stream",
     "text": [
      "Duplicated rows: 240\n"
     ]
    }
   ],
   "source": [
    "# Find the duplicated rows\n",
    "print(\"Duplicated rows:\",red_wine_quality_df.duplicated().sum())"
   ]
  },
  {
   "cell_type": "markdown",
   "id": "6585f541-350f-4438-b4fc-0ce31404324a",
   "metadata": {},
   "source": [
    "We need to drop those duplicated rows."
   ]
  },
  {
   "cell_type": "code",
   "execution_count": null,
   "id": "57f2b0b2-212e-47be-88a7-ff1510dbd910",
   "metadata": {},
   "outputs": [],
   "source": [
    "red_wine_quality_df.drop_duplicates(inplace=True)"
   ]
  },
  {
   "cell_type": "markdown",
   "id": "75bfd3dd-d4bc-4a85-aefd-dd5bb00785dd",
   "metadata": {},
   "source": [
    "### 4.3. What is the meaning of each column?\n",
    "\n",
    "1 - `fixed acidity`: most acids involved with wine or fixed or nonvolatile (do not evaporate readily)\n",
    "\n",
    "2 - `volatile acidity`: the amount of acetic acid in wine, which at too high of levels can lead to an unpleasant, vinegar taste\n",
    "\n",
    "3 - `citric acid`: found in small quantities, citric acid can add ‘freshness’ and flavor to wines\n",
    "\n",
    "4 - `residual sugar`: the amount of sugar remaining after fermentation stops, it’s rare to find wines with less than 1 gram/liter and wines with greater than 45 grams/liter are considered sweet\n",
    "\n",
    "5 - `chlorides`: the amount of salt in the wine\n",
    "\n",
    "6 - `free sulfur dioxide`: the free form of SO2 exists in equilibrium between molecular SO2 (as a dissolved gas) and bisulfite ion; it prevents microbial growth and the oxidation of wine\n",
    "\n",
    "7 - `total sulfur dioxide`: amount of free and bound forms of S02; in low concentrations, SO2 is mostly undetectable in wine, but at free SO2 concentrations over 50 ppm, SO2 becomes evident in the nose and taste of wine\n",
    "\n",
    "8 - `density`: the density of water is close to that of water depending on the percent alcohol and sugar content\n",
    "\n",
    "9 - `pH`: describes how acidic or basic a wine is on a scale from 0 (very acidic) to 14 (very basic); most wines are between 3-4 on the pH scale\n",
    "\n",
    "10 - `sulphates`: a wine additive which can contribute to sulfur dioxide gas (S02) levels, wich acts as an antimicrobia\n",
    "\n",
    "11 - `alcohol`: the percent alcohol content of the wine\n",
    "\n",
    "Output variable (based on sensory data): 12 - `quality` (score between 0 and 10)"
   ]
  },
  {
   "cell_type": "markdown",
   "id": "96de7669-e932-4c9b-be98-e554e1ac45cd",
   "metadata": {},
   "source": [
    "### 4.4. What is the current data type of each column? Are there columns having inappropriate data types?\n",
    "\n",
    "#### 4.4.1. What is the current data type of each column?\n"
   ]
  },
  {
   "cell_type": "code",
   "execution_count": 14,
   "id": "66ce003a-0b91-4969-8b30-d0a65c7e0406",
   "metadata": {},
   "outputs": [
    {
     "name": "stdout",
     "output_type": "stream",
     "text": [
      "<class 'pandas.core.frame.DataFrame'>\n",
      "RangeIndex: 1599 entries, 0 to 1598\n",
      "Data columns (total 12 columns):\n",
      " #   Column                Non-Null Count  Dtype  \n",
      "---  ------                --------------  -----  \n",
      " 0   fixed acidity         1599 non-null   float64\n",
      " 1   volatile acidity      1599 non-null   float64\n",
      " 2   citric acid           1599 non-null   float64\n",
      " 3   residual sugar        1599 non-null   float64\n",
      " 4   chlorides             1599 non-null   float64\n",
      " 5   free sulfur dioxide   1599 non-null   float64\n",
      " 6   total sulfur dioxide  1599 non-null   float64\n",
      " 7   density               1599 non-null   float64\n",
      " 8   pH                    1599 non-null   float64\n",
      " 9   sulphates             1599 non-null   float64\n",
      " 10  alcohol               1599 non-null   float64\n",
      " 11  quality               1599 non-null   int64  \n",
      "dtypes: float64(11), int64(1)\n",
      "memory usage: 150.0 KB\n"
     ]
    }
   ],
   "source": [
    "red_wine_quality_df.info()"
   ]
  },
  {
   "cell_type": "markdown",
   "id": "c162e4e6-c956-4122-bda1-2ec110e6f404",
   "metadata": {},
   "source": [
    "All columns are integer or float."
   ]
  },
  {
   "cell_type": "markdown",
   "id": "40a36dda-7793-4914-ad55-a9d338b265e1",
   "metadata": {},
   "source": [
    "#### 4.4.2. Are there columns having inappropriate data types?\n",
    "\n",
    "Seem like the column `quality` has data type different than other columns so we need to transfer column `quality` data type to process data more convenient"
   ]
  },
  {
   "cell_type": "code",
   "execution_count": 17,
   "id": "3f1e4a89-029e-495e-ad1c-016529df6466",
   "metadata": {},
   "outputs": [],
   "source": [
    "# Change the data of the 'quality' column to float64\n",
    "red_wine_quality_df['quality'] = red_wine_quality_df['quality'].astype('float64')"
   ]
  },
  {
   "cell_type": "markdown",
   "id": "ced05cbc-52dd-4a98-a14f-218e76a20d09",
   "metadata": {},
   "source": [
    "### 4.5. With each numerical column, how are values distributed?\n",
    "\n",
    "We need to see how many missing values the numeric columns have."
   ]
  },
  {
   "cell_type": "code",
   "execution_count": 19,
   "id": "a0fc0251-253f-4eda-ac91-d4fed110c986",
   "metadata": {},
   "outputs": [
    {
     "data": {
      "text/plain": [
       "fixed acidity           0\n",
       "volatile acidity        0\n",
       "citric acid             0\n",
       "residual sugar          0\n",
       "chlorides               0\n",
       "free sulfur dioxide     0\n",
       "total sulfur dioxide    0\n",
       "density                 0\n",
       "pH                      0\n",
       "sulphates               0\n",
       "alcohol                 0\n",
       "quality                 0\n",
       "dtype: int64"
      ]
     },
     "execution_count": 19,
     "metadata": {},
     "output_type": "execute_result"
    }
   ],
   "source": [
    "red_wine_quality_df.isnull().sum()"
   ]
  },
  {
   "cell_type": "markdown",
   "id": "8db5a246-5268-4297-9909-e54ae5a06c8e",
   "metadata": {},
   "source": [
    "All numeric columns don't have any missing values."
   ]
  },
  {
   "cell_type": "markdown",
   "id": "951d281a-9a28-48df-8880-6cf1b7e5e1d0",
   "metadata": {},
   "source": [
    "We will calculate the min and max of these numeric columns."
   ]
  },
  {
   "cell_type": "code",
   "execution_count": 28,
   "id": "117c6eb5-5cf1-4e9f-a62e-cbbffc9b0544",
   "metadata": {},
   "outputs": [
    {
     "data": {
      "text/html": [
       "<div>\n",
       "<style scoped>\n",
       "    .dataframe tbody tr th:only-of-type {\n",
       "        vertical-align: middle;\n",
       "    }\n",
       "\n",
       "    .dataframe tbody tr th {\n",
       "        vertical-align: top;\n",
       "    }\n",
       "\n",
       "    .dataframe thead th {\n",
       "        text-align: right;\n",
       "    }\n",
       "</style>\n",
       "<table border=\"1\" class=\"dataframe\">\n",
       "  <thead>\n",
       "    <tr style=\"text-align: right;\">\n",
       "      <th></th>\n",
       "      <th>Min</th>\n",
       "      <th>Max</th>\n",
       "    </tr>\n",
       "  </thead>\n",
       "  <tbody>\n",
       "    <tr>\n",
       "      <th>fixed acidity</th>\n",
       "      <td>4.60</td>\n",
       "      <td>15.90</td>\n",
       "    </tr>\n",
       "    <tr>\n",
       "      <th>volatile acidity</th>\n",
       "      <td>0.12</td>\n",
       "      <td>1.58</td>\n",
       "    </tr>\n",
       "    <tr>\n",
       "      <th>citric acid</th>\n",
       "      <td>0.00</td>\n",
       "      <td>1.00</td>\n",
       "    </tr>\n",
       "    <tr>\n",
       "      <th>residual sugar</th>\n",
       "      <td>0.90</td>\n",
       "      <td>15.50</td>\n",
       "    </tr>\n",
       "    <tr>\n",
       "      <th>chlorides</th>\n",
       "      <td>0.01</td>\n",
       "      <td>0.61</td>\n",
       "    </tr>\n",
       "    <tr>\n",
       "      <th>free sulfur dioxide</th>\n",
       "      <td>1.00</td>\n",
       "      <td>72.00</td>\n",
       "    </tr>\n",
       "    <tr>\n",
       "      <th>total sulfur dioxide</th>\n",
       "      <td>6.00</td>\n",
       "      <td>289.00</td>\n",
       "    </tr>\n",
       "    <tr>\n",
       "      <th>density</th>\n",
       "      <td>0.99</td>\n",
       "      <td>1.00</td>\n",
       "    </tr>\n",
       "    <tr>\n",
       "      <th>pH</th>\n",
       "      <td>2.74</td>\n",
       "      <td>4.01</td>\n",
       "    </tr>\n",
       "    <tr>\n",
       "      <th>sulphates</th>\n",
       "      <td>0.33</td>\n",
       "      <td>2.00</td>\n",
       "    </tr>\n",
       "    <tr>\n",
       "      <th>alcohol</th>\n",
       "      <td>8.40</td>\n",
       "      <td>14.90</td>\n",
       "    </tr>\n",
       "    <tr>\n",
       "      <th>quality</th>\n",
       "      <td>3.00</td>\n",
       "      <td>8.00</td>\n",
       "    </tr>\n",
       "  </tbody>\n",
       "</table>\n",
       "</div>"
      ],
      "text/plain": [
       "                       Min     Max\n",
       "fixed acidity         4.60   15.90\n",
       "volatile acidity      0.12    1.58\n",
       "citric acid           0.00    1.00\n",
       "residual sugar        0.90   15.50\n",
       "chlorides             0.01    0.61\n",
       "free sulfur dioxide   1.00   72.00\n",
       "total sulfur dioxide  6.00  289.00\n",
       "density               0.99    1.00\n",
       "pH                    2.74    4.01\n",
       "sulphates             0.33    2.00\n",
       "alcohol               8.40   14.90\n",
       "quality               3.00    8.00"
      ]
     },
     "execution_count": 28,
     "metadata": {},
     "output_type": "execute_result"
    }
   ],
   "source": [
    "numeric_cols = red_wine_quality_df.select_dtypes(include=['number'])\n",
    "\n",
    "# Calculate min and max by np.percentile\n",
    "min_values = numeric_cols.apply(lambda col: np.percentile(col, 0))\n",
    "max_values = numeric_cols.apply(lambda col: np.percentile(col, 100))\n",
    "\n",
    "result = pd.DataFrame({\n",
    "    'Min': min_values,\n",
    "    'Max': max_values\n",
    "})\n",
    "result.round(2)"
   ]
  },
  {
   "cell_type": "markdown",
   "id": "94b158f4-7074-4c62-a685-c98b099118e5",
   "metadata": {},
   "source": [
    "---\n",
    "### <font color=red>Export new file after preprocessing</font>\n",
    "---"
   ]
  },
  {
   "cell_type": "code",
   "execution_count": 21,
   "id": "9afbda47-83c5-4951-81f5-acffb8325fd9",
   "metadata": {},
   "outputs": [],
   "source": [
    "red_wine_quality_df.to_csv('Data/newredwine-quality.csv', index=False)"
   ]
  }
 ],
 "metadata": {
  "kernelspec": {
   "display_name": "Python 3 (ipykernel)",
   "language": "python",
   "name": "python3"
  },
  "language_info": {
   "codemirror_mode": {
    "name": "ipython",
    "version": 3
   },
   "file_extension": ".py",
   "mimetype": "text/x-python",
   "name": "python",
   "nbconvert_exporter": "python",
   "pygments_lexer": "ipython3",
   "version": "3.10.8"
  }
 },
 "nbformat": 4,
 "nbformat_minor": 5
}
